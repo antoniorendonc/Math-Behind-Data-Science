{
 "cells": [
  {
   "cell_type": "markdown",
   "id": "9c896f97-25c0-4b59-a5bd-42d029055018",
   "metadata": {},
   "source": [
    "# Implementando operaciones de conjuntos en Python\n",
    "Antonio Rendón  https://www.linkedin.com/in/antoniorendon/\n",
    "\n",
    "Agosto 2023"
   ]
  },
  {
   "attachments": {},
   "cell_type": "markdown",
   "id": "b17baa9e-1bbe-4a57-97e0-c3de2d6469a9",
   "metadata": {},
   "source": [
    "## Teoría de Conjuntos \n",
    "\n",
    "La teoría de conjuntos es una rama fundamental de las matemáticas que se enfoca en el estudio de los conjuntos. Esta disciplina fue introducida por el matemático ruso Georg Cantor, quien definió un conjunto como una **colección de elementos finitos o infinitos** y lo utilizó para abordar conceptos matemáticos.\n",
    "\n",
    "Cantor llevó a cabo un análisis exhaustivo de conjuntos de números racionales y naturales, haciendo un descubrimiento revolucionario: la existencia de conjuntos infinitos de diferentes tamaños, lo que implica la presencia de infinitos mayores que otros.\n",
    "\n",
    "Un conjunto está compuesto por elementos bien definidos. A continuación, se muestran algunos ejemplos:\n",
    "\n",
    "- {a, b, c, d, e}\n",
    "- {n | n ∈ ℕ, 1 ≤ n ≤ 10}\n",
    "- {verde, rojo, azul, amarillo, blanco, negro, violeta}\n",
    "\n",
    "En el diagrama de Venn, se representa un conjunto que contiene tanto frutas como verduras.\n",
    "\n",
    "![Venn Diagram](https://euclides.org/wp-content/uploads/2021/12/venn-diagram.svg)\n",
    "\n",
    "Es importante destacar que un conjunto puede contener una amplia variedad de objetos, aunque en la teoría de conjuntos, se enfoca principalmente en objetos relevantes para las matemáticas. Los elementos que componen un conjunto son denominados \"elementos del conjunto\". En el diagrama de Venn, cada fruta o verdura es un elemento de su conjunto correspondiente, y ambas pertenecen al conjunto universal.unto universal.\r\n"
   ]
  },
  {
   "cell_type": "markdown",
   "id": "eda94d20-82b2-4970-b888-c3a9cef33617",
   "metadata": {},
   "source": [
    "### Conjunto Universal y Conjunto Vacío\n",
    "\n",
    "##### Conjunto Vacío (o Conjunto Nulo)\n",
    "El conjunto vacío, denotado por el símbolo ∅ (o { }), es un conjunto que no contiene ningún elemento. Es decir, es una colección que no tiene ningún objeto en su interior. El conjunto vacío es un concepto importante, ya que es el conjunto inicial desde el cual se construyen otros conjuntos mediante operaciones de unión, intersección, etc. Por ejemplo, si tenemos un conjunto A = {1, 2, 3} y un conjunto B = { }, entonces B es el conjunto vacío.\n",
    "\n",
    "#### Conjunto Universal (o Conjunto de Referencia)\n",
    "El conjunto universal, denotado generalmente por la letra U, es el conjunto que contiene todos los elementos que son relevantes para el contexto dado. Es el conjunto que actúa como marco de referencia para el análisis de otros conjuntos más pequeños. En algunos casos, el conjunto universal puede estar definido por un conjunto más grande que contiene todos los elementos relevantes para un problema particular. Por ejemplo, si estamos hablando del conjunto de números naturales, el conjunto universal sería el conjunto de todos los números naturales, es decir, U = {0, 1, 2, 3, 4, ...}."
   ]
  },
  {
   "cell_type": "markdown",
   "id": "ca63048f-dcce-492a-82f8-f1a69b89eeb7",
   "metadata": {},
   "source": [
    "### Operaciones de conjuntos\n",
    "\n",
    "\n",
    "* **Unión** El conjunto de todos los elementos que pertenecen a A o a B, o tanto a A como a B, se llama la unión de A y B y se escribe A ∪ B.\n",
    "\n",
    "* **Intersección** El conjunto de todos los elementos que pertenecen simultáneamente a A y B se llama la intersección de A y B y se escribe A ∩ B.\n",
    "  \n",
    "* **Diferencia** El conjunto que consiste en todos los elementos de A que no pertenecen a B se llama la diferencia de A y B y se escribe A – B.\n",
    "  \n",
    "* **Complemento** Son todos los conjuntos no en A y se escribe A’.\n",
    "\n",
    "* **Diferencia simétrica** La diferencia simétrica es el conjunto de elementos que solo pertenecen a A o B pero no a ambos a la vez.\n",
    "vez."
   ]
  },
  {
   "cell_type": "markdown",
   "id": "38a93733-8e63-4018-8f79-c4d4c64011af",
   "metadata": {},
   "source": [
    "## Operaciones de conjuntos usando Python (Listas)\r\n",
    "\r\n",
    "En esta primera aproximación a las operaciones de conjuntos, utilizaremos las estructuras de datos tipo LISTA en Python.\r\n",
    "\r\n",
    "Las listas son una estructura de datos versátil y ampliamente utilizada debido a su flexibilidad y facilidad para realizar operaciones de modificación y acceso a elementos. Presentan ciertas ventajas:\r\n",
    "\r\n",
    "- **Orden:** Las listas mantienen el orden de los elementos en el que fueron agregados. Esto permite acceder a los elementos mediante índices numéricos.\r\n",
    "- **Mutabilidad:** Las listas son estructuras de datos mutables, lo que significa que los elementos pueden modificarse, agregarse o eliminarse.\r\n",
    "- **Duplicados:** Las listas pueden contener elementos duplicados, es decir, un mismo valor puede aparecer varias veces dentro de la lista.\r\n",
    "- **Heterogeneidad:** Las listas pueden contener elementos de diferentes tipos de datos, como números, cadenas de texto, booleanos, listas anidadas, diccionarios, etc.\r\n",
    "- **Tamaño dinámico:** Las listas no tienen un tamaño fijo y pueden cambiar su longitud a medida que se agregan o eliminan elementos. Esto las hace flexibles y útiles para manejar colecciones de datos de tamaño variable.\r\n",
    "\r\n",
    "Para crear una lista en Python, utilizamos corchetes [ ] y separamos los elementos con comas. A continuación, veremos algunos ejemplos:\r\n",
    "elementos."
   ]
  },
  {
   "cell_type": "code",
   "execution_count": 1,
   "id": "940fe20a-26e7-4925-953d-10e6db3fd3e8",
   "metadata": {},
   "outputs": [
    {
     "name": "stdout",
     "output_type": "stream",
     "text": [
      "Conjunto de numeros: [1, 2, 3, 4, 5]\n",
      "Conjunto de frutas: ['manzana', 'naranja', 'plátano', 'uva']\n",
      "Conjunto mezclada: [1, 'dos', True, 3.14, 'Python']\n"
     ]
    }
   ],
   "source": [
    "#Podemos declarar las listas usando corchetes y separando con comas sus elementos.\n",
    "numeros = [1, 2, 3, 4, 5]\n",
    "frutas = [\"manzana\", \"naranja\", \"plátano\", \"uva\"]\n",
    "mezcla = [1, \"dos\", True, 3.14, \"Python\"]\n",
    "\n",
    "#Vamos a imprimir nuestras listas\n",
    "print(\"Conjunto de numeros: \"+ str(numeros))\n",
    "print(\"Conjunto de frutas: \"+ str(frutas))\n",
    "print(\"Conjunto mezclada: \"+ str(mezcla))\n"
   ]
  },
  {
   "cell_type": "markdown",
   "id": "8ec515f6-77b2-46ed-a23e-22fdbb772a7b",
   "metadata": {},
   "source": [
    "#### Conjunto vacío y conjunto universal en Python\n",
    "\n",
    "El conjunto vacío en Python se representa simplemente como una lista vacía. Es decir, no tiene elementos dentro.\n",
    "\n",
    "conjunto_vacio = [ ]\n",
    "\n",
    "El conjunto universal puede variar dependiendo del contexto y del problema específico que se esté abordando, aquí algunos ejemplos:\n",
    "\n",
    "* Conjunto universo de las letras del abecedario:  U=[a,b,c,...z]\n",
    "* Conjunto universo de los días de la semana U=[lunes,martes,miercoles,jueves ... domingo]\n",
    "* Conjunto universal de números menores a 20 U¨[1,2,3,4,5...19,20]"
   ]
  },
  {
   "cell_type": "code",
   "execution_count": 49,
   "id": "061d7848-23df-411d-896a-c4fb309456a2",
   "metadata": {},
   "outputs": [
    {
     "name": "stdout",
     "output_type": "stream",
     "text": [
      "dias_semana: Lunes Martes Miércoles Jueves Viernes Sábado Domingo\n",
      "letras_alfabeto: A B C D E F G H I J K L M N O P Q R S T U V W X Y Z\n",
      "numeros_positivos: 1 2 3 4 5 6 7 8 9\n",
      "\n",
      "Conjunto vacio:  []\n"
     ]
    }
   ],
   "source": [
    "#Conjunto vacio\n",
    "vacio=[]\n",
    "\n",
    "#Vamos a crear una lista de universos disponibles\n",
    "\n",
    "universos = {\n",
    "    'dias_semana': ['Lunes', 'Martes', 'Miércoles', 'Jueves', 'Viernes', 'Sábado', 'Domingo'],\n",
    "    'letras_alfabeto': list('ABCDEFGHIJKLMNOPQRSTUVWXYZ'),\n",
    "    'numeros_positivos': list(range(1, 10))\n",
    "}\n",
    "\n",
    "\n",
    "# Imprimir los universos en una sola línea\n",
    "for nombre_universo, elementos_universo in universos.items():\n",
    "    print(f\"{nombre_universo}: {' '.join(map(str, elementos_universo))}\")\n",
    "\n",
    "# Imprimir un salto de línea después de cada universo\n",
    "print()\n",
    "\n",
    "print('Conjunto vacio: ', vacio)"
   ]
  },
  {
   "cell_type": "markdown",
   "id": "33307333-4367-4d3d-90b2-2c36874e8b7a",
   "metadata": {},
   "source": [
    "___\n",
    "Vamos a crear las funciones para cada operación con conjuntos, iniciaremos con **UNION**.\n",
    "Básicamente, lo que requerimos es tomar el conjunto A y agregarle los elementos del conjunto B siempre y cuando no existan en A\n",
    "\n",
    "Hagamos uso del siguiente código:"
   ]
  },
  {
   "cell_type": "code",
   "execution_count": 37,
   "id": "344c0ad6-0cb8-4ab4-a6a3-8233945440bd",
   "metadata": {},
   "outputs": [
    {
     "name": "stdout",
     "output_type": "stream",
     "text": [
      "Operacion A union B \n"
     ]
    },
    {
     "data": {
      "text/plain": [
       "['Lunes,Martes,Miercoles,Jueves', 'Martes,Jueves,Sabado,Domingo']"
      ]
     },
     "execution_count": 37,
     "metadata": {},
     "output_type": "execute_result"
    }
   ],
   "source": [
    "# Unión de conjuntos\n",
    "def union(conjunto_A, conjunto_B):\n",
    "    # Vamos a crear una lista vacia llamada resultado y como primer paso copiar los elementos de conjunto_A en ella\n",
    "    resultado = []\n",
    "    for elemento in conjunto_A:  #Hacemos un ciclo por cada elemento\n",
    "        resultado.append(elemento)  #Vamos agregando cada elemento de A  en resultado\n",
    "    \n",
    "    # Ahora haremos un ciclo con cada elemento del conjunto_B\n",
    "    for elemento in conjunto_B:\n",
    "        # Tenemos que evitar duplicados por ello primero hay que verificar que el elemento no existia en el conjunto A\n",
    "        if elemento not in conjunto_A:\n",
    "            # Si el elemento no está en conjunto_A, agregarlo a resultado\n",
    "            resultado.append(elemento)\n",
    "\n",
    "    # Como resultado vamos a devolver la lista resultado que tiene la union de los conjuntos\n",
    "    return resultado\n",
    "\n",
    "#Ejemplo\n",
    "#A={'A','C','D','H'}\n",
    "#B={'A','E','G','H'}\n",
    "print('Operacion A union B ') \n",
    "union (A,B)\n",
    "\n",
    "\n"
   ]
  },
  {
   "cell_type": "markdown",
   "id": "5d9215da-12f0-46d5-83d5-d7863d527cc2",
   "metadata": {},
   "source": [
    "___\n",
    "La siguiente función que crearemos será la función **INTERSECCION**, en este apartado lo que realizaremos será recorrer los elementos del conjunto A y buscar si dicho elemento está presente también en el conjunto B, si está en ambos conjuntos lo agregamos a nuestro resultado.\n",
    "A continuación el código: "
   ]
  },
  {
   "cell_type": "code",
   "execution_count": 21,
   "id": "1b8301af-fd21-4cb2-bcff-114f4c50a7bf",
   "metadata": {},
   "outputs": [
    {
     "name": "stdout",
     "output_type": "stream",
     "text": [
      "Operacion A interseccion B \n"
     ]
    },
    {
     "data": {
      "text/plain": [
       "['H', 'A']"
      ]
     },
     "execution_count": 21,
     "metadata": {},
     "output_type": "execute_result"
    }
   ],
   "source": [
    "#Funcion interseccion, toma como entrada dos conjuntos.\n",
    "\n",
    "def interseccion(conjunto_A, conjunto_B):\n",
    "    # Creamos una lista vacia donde se almacenara el resultado\n",
    "    resultado = []\n",
    "    \n",
    "    # Recorrer cada elemento de A\n",
    "    for elemento in conjunto_A:\n",
    "        # Verificamos si el elemento esta tambien en B\n",
    "        if elemento in conjunto_B:\n",
    "            # Si el elemento existe en B, lo agregamos al resultado\n",
    "            resultado.append(elemento)\n",
    "\n",
    "    # Devolver la lista resultado como el resultado final de la intersección\n",
    "    return resultado\n",
    "\n",
    "\n",
    "#Ejemplo\n",
    "A={'A','C','D','H'}\n",
    "B={'A','E','G','H'}\n",
    "\n",
    "print('Operacion A interseccion B ') \n",
    "interseccion(A,B)"
   ]
  },
  {
   "cell_type": "markdown",
   "id": "8597e833-05e0-4702-8b0c-82926e51a028",
   "metadata": {},
   "source": [
    "___ \n",
    "Para calcular el **COMPLEMENTO** de un conjunto, primero necesitamos tener el conjunto universal. \n",
    "El complemento será la diferencia entre el conjunto universal y nuestro conjunto, usaremos el siguiente código: "
   ]
  },
  {
   "cell_type": "code",
   "execution_count": 22,
   "id": "6ed94f5e-0f41-40ef-b791-a4eadcdb6bc0",
   "metadata": {},
   "outputs": [
    {
     "name": "stdout",
     "output_type": "stream",
     "text": [
      "Complemento\n",
      "['B', 'E', 'F', 'G', 'I', 'J', 'K', 'L', 'M', 'N', 'O', 'P', 'Q', 'R', 'S', 'T', 'U', 'V', 'W', 'X', 'Y', 'Z']\n"
     ]
    }
   ],
   "source": [
    "def complemento(conjunto_universal, conjunto_A):\n",
    "    # Calcular la diferencia entre el conjunto universal y el conjunto A\n",
    "    resultado = []\n",
    "    #Vamos a recorrer el conjunto universal y verificar si el elemento existe en el conjunto A\n",
    "    for elemento in conjunto_universal:\n",
    "        if elemento not in conjunto_A:\n",
    "            #El elemento no esta en el conjunto A, lo agregamos al resultado\n",
    "            resultado.append(elemento)\n",
    "    return resultado\n",
    "\n",
    "#Ejemplo \n",
    "#conjunto_universal Letras del Alfabeto ya fue definido anteriormente\n",
    "A={'A','C','D','H'}\n",
    "print('Complemento')\n",
    "print(complemento (universos['letras_alfabeto'], A))\n"
   ]
  },
  {
   "cell_type": "markdown",
   "id": "db3d0263-307f-4692-9350-be5c5d2f3de9",
   "metadata": {},
   "source": [
    "___\n",
    "Procedemos ahora a crear la función **DIFERENCIA**, en este caso tenemos que recorrer el conjunto A, y si el elemento no está en el conjunto B \n",
    "lo agregamos al resultado."
   ]
  },
  {
   "cell_type": "code",
   "execution_count": 23,
   "id": "8108c830-ea27-4b1e-be80-85b3afb8e6a8",
   "metadata": {},
   "outputs": [
    {
     "name": "stdout",
     "output_type": "stream",
     "text": [
      "Operacion A diferencia B \n"
     ]
    },
    {
     "data": {
      "text/plain": [
       "['H', 'A']"
      ]
     },
     "execution_count": 23,
     "metadata": {},
     "output_type": "execute_result"
    }
   ],
   "source": [
    "#Funcion diferencia de conjuntos \n",
    "def diferencia(conjunto_A, conjunto_B):\n",
    "    # Crear una lista nueva vacía llamada resultado\n",
    "    resultado = []\n",
    "    \n",
    "    # Recorrer cada elemento del conjunto_A\n",
    "    for elemento in conjunto_A:\n",
    "        # Revisamos si el elemento está o no presente en B\n",
    "        if elemento not in conjunto_B:\n",
    "            # Cuando el elemento no está en conjunto_B, agregarlo a resultado\n",
    "            resultado.append(elemento)\n",
    "\n",
    "    # Devolver la lista resultado como el resultado final de la diferencia\n",
    "    return resultado\n",
    "\n",
    "#Ejemplo\n",
    "A={'A','C','D','H'}\n",
    "B={'A','E','G','H'}\n",
    "\n",
    "print('Operacion A diferencia B ') \n",
    "interseccion(A,B)\n"
   ]
  },
  {
   "cell_type": "markdown",
   "id": "8124cda8-6082-414f-be49-f6cf691eea04",
   "metadata": {},
   "source": [
    "___\n",
    "Por último, la diferencia simétrica es el conjunto de elementos que solo pertenecen a A o a B pero no a ambos a la vez.\n",
    "También se puede expresar esta operación mediante otras operaciones entre conjuntos, por ejemplo A△B=(A−B)∪(B−A)\n",
    "\n",
    "Aprovecharemos esta última definición para hacer uso de las funciones que ya creamos anteriormente"
   ]
  },
  {
   "cell_type": "code",
   "execution_count": 24,
   "id": "4c7099be-0094-41c6-9945-cb596637b7df",
   "metadata": {},
   "outputs": [
    {
     "name": "stdout",
     "output_type": "stream",
     "text": [
      "Diferencia simetrica\n"
     ]
    },
    {
     "data": {
      "text/plain": [
       "['C', 'D', 'E', 'G']"
      ]
     },
     "execution_count": 24,
     "metadata": {},
     "output_type": "execute_result"
    }
   ],
   "source": [
    "def diferencia_simetrica(conjunto_A, conjunto_B):\n",
    "    # Calcular la diferencia entre A y B\n",
    "    diferencia_AB = diferencia(conjunto_A, conjunto_B)\n",
    "\n",
    "    # Calcular la diferencia entre B y A\n",
    "    diferencia_BA = diferencia(conjunto_B, conjunto_A)\n",
    "\n",
    "    # Unir las dos diferencias para obtener la diferencia simétrica\n",
    "    diferencia_simetrica = union(diferencia_AB, diferencia_BA)\n",
    "\n",
    "    return diferencia_simetrica\n",
    "#Ejemplo\n",
    "A={'A','C','D','H'}\n",
    "B={'A','E','G','H'}\n",
    "\n",
    "print('Diferencia simetrica')\n",
    "diferencia_simetrica(A,B)\n",
    "\n"
   ]
  },
  {
   "cell_type": "markdown",
   "id": "993dc968-194f-41e7-a6b9-5c80cd9bb4f7",
   "metadata": {},
   "source": [
    "___\n",
    "\n",
    "**Vamos a poner todo junto y hacer un programa para interactuar con el usuario**\n",
    "\n"
   ]
  },
  {
   "cell_type": "code",
   "execution_count": 50,
   "id": "30f07de6-6419-4ef7-b978-3176379c65d9",
   "metadata": {},
   "outputs": [
    {
     "name": "stdout",
     "output_type": "stream",
     "text": [
      "Universos disponibles:\n",
      "1. dias_semana: Lunes, Martes, Miércoles, Jueves, Viernes, Sábado, Domingo\n",
      "2. letras_alfabeto: A, B, C, D, E, F, G, H, I, J, K, L, M, N, O, P, Q, R, S, T, U, V, W, X, Y, Z\n",
      "3. numeros_positivos: 1, 2, 3, 4, 5, 6, 7, 8, 9\n"
     ]
    },
    {
     "name": "stdin",
     "output_type": "stream",
     "text": [
      "Seleccione el universo (1, 2 o 3):  1\n",
      "Ingrese los elementos del conjunto A separados por espacios:  LUNES MIERCOLES VIERNES\n",
      "Ingrese los elementos del conjunto B separados por espacios:  MARTES JUEVES LUNES VIERNES\n"
     ]
    },
    {
     "name": "stdout",
     "output_type": "stream",
     "text": [
      "\n",
      " Conjunto A ['LUNES', 'MIERCOLES', 'VIERNES']\n",
      "\n",
      " Conjunto B ['MARTES', 'JUEVES', 'LUNES', 'VIERNES']\n",
      "\n",
      "Resultado de la Unión: ['LUNES', 'MIERCOLES', 'VIERNES', 'MARTES', 'JUEVES']\n",
      "Resultado de la Intersección: ['LUNES', 'VIERNES']\n",
      "Resultado del Complemento de A: ['Lunes', 'Martes', 'Miércoles', 'Jueves', 'Viernes', 'Sábado', 'Domingo']\n",
      "Resultado de la Diferencia (A - B): ['MIERCOLES']\n",
      "Resultado de la Diferencia Simétrica: ['MIERCOLES', 'MARTES', 'JUEVES']\n"
     ]
    }
   ],
   "source": [
    "#usaremos la libreria de tiempo para hacer calculos\n",
    "\n",
    "# Solicitar al usuario que elija el universo con el que desea trabajar\n",
    "#Imprimimos los universos disponibles\n",
    "print(\"Universos disponibles:\")\n",
    "for i, (nombre_universo, elementos_universo) in enumerate(universos.items(), 1):\n",
    "    elementos = ', '.join(map(str, elementos_universo))\n",
    "    print(f\"{i}. {nombre_universo}: {elementos}\")\n",
    "\n",
    "#Esperamos que el usuario elija uno de los universos y lo asignamos a la variable universo_elegido\n",
    "opcion_universo = int(input(\"Seleccione el universo (1, 2 o 3): \"))\n",
    "U = list(universos.values())[opcion_universo - 1]\n",
    "\n",
    "# Solicitar al usuario los elementos de los conjuntos A y B deben estar separados por espacios \n",
    "set_A = input(\"Ingrese los elementos del conjunto A separados por espacios: \").split()\n",
    "set_B = input(\"Ingrese los elementos del conjunto B separados por espacios: \").split()\n",
    "\n",
    "\n",
    "# Convertir los elementos ingresados por el usuario a listas\n",
    "set_A = [elemento.strip() for elemento in set_A]\n",
    "set_B = [elemento.strip() for elemento in set_B]\n",
    "\n",
    "\n",
    "resultado_union = union(set_A, set_B)\n",
    "resultado_interseccion = interseccion(set_A, set_B)\n",
    "resultado_complemento_A = complemento(U, set_A)\n",
    "resultado_diferencia_A_B = diferencia(set_A, set_B)\n",
    "resultado_diferencia_simetrica = diferencia_simetrica(set_A, set_B)\n",
    "\n",
    "\n",
    "print(\"\\n Conjunto A\", set_A)\n",
    "print(\"\\n Conjunto B\", set_B)\n",
    "print(\"\\nResultado de la Unión:\", resultado_union)\n",
    "print(\"Resultado de la Intersección:\", resultado_interseccion)\n",
    "print(\"Resultado del Complemento de A:\", resultado_complemento_A)\n",
    "print(\"Resultado de la Diferencia (A - B):\", resultado_diferencia_A_B)\n",
    "print(\"Resultado de la Diferencia Simétrica:\", resultado_diferencia_simetrica)\n",
    "\n",
    "\n",
    "\n"
   ]
  },
  {
   "cell_type": "code",
   "execution_count": null,
   "id": "0c41b4f1-d534-42f0-a71f-62b8d262b3fe",
   "metadata": {},
   "outputs": [],
   "source": []
  },
  {
   "cell_type": "code",
   "execution_count": null,
   "id": "71ac21a2-1077-4bd3-97e4-2fdb7dd15c0c",
   "metadata": {},
   "outputs": [],
   "source": []
  },
  {
   "cell_type": "markdown",
   "id": "873e1224-33df-4b96-becd-de9e672df2f4",
   "metadata": {},
   "source": [
    "=1\r\n",
    "\r\n"
   ]
  },
  {
   "cell_type": "markdown",
   "id": "0f3f727c-708e-40e8-b68d-95bdf0365cc4",
   "metadata": {},
   "source": [
    "# Referencias: \n",
    "\n",
    "* CONCEPTO. (s.f.). Conjuntos. Obtenido de https://concepto.de/que-es-un-conjunto/\n",
    "\n",
    "* EUCLIDES. (s.f.). Teoria de Conjuntos. Obtenido de https://euclides.org/teoria-de-conjuntos/\n",
    "\n",
    "* Kahn Academy. (s.f.). Relaciones y operaciones entre conjuntos (Diferencia simétrica). Obtenido de https://es.khanacademy.org/math/aritmetica-pe-pre-u/xce51e392da300f11:relaciones-logicas-y-conjuntos/xce51e392da300f11:relaciones-y-operaciones-entre-conjuntos/a/158-relaciones-y-operaciones-entre-conjuntos-diferencia-simtrica\n",
    "\n",
    "* Perez, C. G. (s.f.). Estadistica Aplicada. Obtenido de TEORÍA DE CONJUNTOS: https://repository.uaeh.edu.mx/bitstream/bitstream/handle/123456789/14886/LECT107.pdf?sequence=1"
   ]
  }
 ],
 "metadata": {
  "kernelspec": {
   "display_name": "Python 3 (ipykernel)",
   "language": "python",
   "name": "python3"
  },
  "language_info": {
   "codemirror_mode": {
    "name": "ipython",
    "version": 3
   },
   "file_extension": ".py",
   "mimetype": "text/x-python",
   "name": "python",
   "nbconvert_exporter": "python",
   "pygments_lexer": "ipython3",
   "version": "3.9.17"
  }
 },
 "nbformat": 4,
 "nbformat_minor": 5
}
