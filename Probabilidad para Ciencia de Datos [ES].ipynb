{
 "cells": [
  {
   "cell_type": "markdown",
   "id": "c484a5d0-6dc6-477d-ba43-a1fdff85453f",
   "metadata": {},
   "source": [
    "# Probabilidad para Ciencia de Datos\r\n",
    "\n",
    "\n",
    "@Antonio Rendon 2023"
   ]
  },
  {
   "cell_type": "markdown",
   "id": "5f18c67f-21c9-46fd-a57b-cd683713b015",
   "metadata": {},
   "source": [
    "## Indice"
   ]
  },
  {
   "cell_type": "markdown",
   "id": "c3d9d4fb-d0eb-41b1-9d2e-5af5fb4b662f",
   "metadata": {},
   "source": [
    "### 1. Introducción\n",
    "\n",
    "\n",
    "La probabilidad es la piedra angular de muchos de los métodos y modelos en la ciencia de datos. Es una rama de las matemáticas que se dedica a estudiar cómo se pueden predecir los fenómenos aleatorios y cuantificar la incertidumbre asociada a ellos. A través de la probabilidad, podemos investigar las regularidades que surgen en fenómenos que, a primera vista, podrían parecer impredecibles.\r\n",
    "\r\n",
    "Los métodos de inferencia estadística, por otro lado, utilizan datos para comprender los procesos subyacentes detrás de esos datos. Estos métodos se basan en principios probabilísticos para hacer generalizaciones o inferencias sobre una población a partir de una muestra. En esencia, la probabilidad nos proporciona las herramientas para entender y cuantificar la variabilidad y el azar, lo que es esencial para interpretar y hacer predicciones basadas en datos.\r\n",
    "\r\n",
    "En el mundo de la ciencia de datos, donde la toma de decisiones basada en datos es crucial, tener una sólida comprensión de la probabilidad es fundamental. Nos permite modelar la incertidumbre, evaluar riesgos y, en última instancia, tomar decisiones más informadas. "
   ]
  },
  {
   "cell_type": "markdown",
   "id": "f4637560-a2d3-41e1-b1f6-e3a851cc51f8",
   "metadata": {},
   "source": [
    "#### 2. Conceptos Básicos\n",
    "\n",
    "__Experimento Aleatorio:__\n",
    "\n",
    "Un experimento aleatorio es aquel en el que si lo repetimos con las mismas condiciones iniciales no garantiza los mismos resultados. Así, por ejemplo, al lanzar una moneda no sabemos si saldrá cara o cruz, al lanzar un dado no sabemos qué número aparecerá, la extracción de las bolas de sorteos, loterías, etc. son experiencias que consideramos aleatorias, puesto que en ellas no podemos predecir los resultados.\n",
    "\n",
    "__Espacio Muestral:__ \n",
    "\n",
    "El espacio muestral, también llamado espacio de muestreo, es el conjunto de sucesos elementales de un experimento aleatorio. Es decir, el espacio muestral son todos los posibles resultados de un experimento aleatorio.\n",
    "\n",
    "El símbolo del espacio muestral es la letra griega Omega mayúscula (Ω), aunque también se puede representar con la letra S o E mayúscula\n",
    "\n",
    "Veamos algunos ejemplos:\n",
    "\n",
    "__Espacio muestral de un dado__\n",
    "\n",
    "El espacio muestral de un dado son todos los resultados que se pueden obtener al lanzar un dado. Por lo tanto, el espacio muestral del lanzamiento de un dado es 1, 2, 3, 4, 5 o 6.\n",
    "        Ω= a=\\{1,2,3,4,5,6}\n",
    "\n",
    "Fíjate que los seis sucesos elementales del espacio de muestreo de un dado son incompatibles, o dicho de otra forma, cuando sacamos una cara del dado no podemos obtener otra. Además, todos los sucesos son equiprobables.\n",
    "\n",
    "__Espacio muestral de dos dados__\n",
    "\r",
    "El espacio muestral de dos dados son todas las combinaciones que se pueden obtener al lanzar dos dados simultáneamente, por lo tanto, el espacio muestral de dos dados está formado por 36 elementos.\r\n",
    "\r\n",
    "Omega={(1,1),(1,2),(1,3), ... ,(6,4),(6,5),(6,6)} Donde el primer número del paréntesis representa el número sacado por el primer dado y el segundo número del paréntesis corresponde al segundo dado.\r\n",
    "\r\n",
    "Ten en cuenta que aunque la probabilidad de que salga cada combinación es la misma, la probabilidad de que salga un número determinado es diferente, porque hay resultados que se repiten. Por ejemplo, el número 7 es el más probable de que s.lga."
   ]
  },
  {
   "cell_type": "code",
   "execution_count": 8,
   "id": "eb4642e5-7fa3-4b4d-b76b-19b77721c6e4",
   "metadata": {},
   "outputs": [],
   "source": [
    "# Ejemplo: Lanzar una moneda\n",
    "espacio_muestral = ['cara', 'sello']\n"
   ]
  },
  {
   "cell_type": "markdown",
   "id": "6e8c7dc8-8f2b-4dd1-b709-1e0700428bcb",
   "metadata": {},
   "source": [
    "Evento: Un conjunto de resultados del espacio muestral."
   ]
  },
  {
   "cell_type": "code",
   "execution_count": 2,
   "id": "8066dae9-03bc-47d6-b3d9-d8585104b660",
   "metadata": {},
   "outputs": [],
   "source": [
    "# Ejemplo: Obtener cara al lanzar una moneda\n",
    "evento_cara = ['cara']\n"
   ]
  },
  {
   "cell_type": "markdown",
   "id": "b41e0659-8d45-4e78-9306-378b177b60b8",
   "metadata": {},
   "source": [
    "3. Probabilidad de un Evento\n",
    "Definición y fórmula."
   ]
  },
  {
   "cell_type": "code",
   "execution_count": 3,
   "id": "d479a91f-da96-46b6-ba5e-378dfbfd1075",
   "metadata": {},
   "outputs": [],
   "source": [
    "def probabilidad(evento, espacio_muestral):\n",
    "    return len(evento) / len(espacio_muestral)\n"
   ]
  },
  {
   "cell_type": "markdown",
   "id": "f567b749-9c50-46a2-bc6f-741f7d543ac5",
   "metadata": {},
   "source": [
    "4. Probabilidad Condicional\n",
    "Definición y fórmula de \n",
    "P(A∣B).\n",
    "Ejemplo con datos en Python."
   ]
  },
  {
   "cell_type": "markdown",
   "id": "e1b47302-7ba8-4f32-ae63-ddde87f24634",
   "metadata": {},
   "source": [
    "5. Eventos Independientes y Dependientes\n",
    "Definiciones.\n",
    "Ejemplo con lanzamiento de monedas y cartas de una baraja."
   ]
  },
  {
   "cell_type": "markdown",
   "id": "d569879d-5488-412b-a428-c3cf81fde62d",
   "metadata": {},
   "source": [
    "6. Ley de los Grandes Números\n",
    "Definición y significado.\n",
    "Diferencia entre la versión débil y fuerte.\n",
    "Implicaciones prácticas y ejemplos en Python."
   ]
  },
  {
   "cell_type": "markdown",
   "id": "e0a47ee2-e83d-4682-a397-4ed42f37b2bc",
   "metadata": {},
   "source": [
    "6. Teorema de Bayes\n",
    "Introducción y fórmula.\n",
    "Ejemplo práctico en Python, como el diagnóstico de una enfermedad."
   ]
  },
  {
   "cell_type": "markdown",
   "id": "550fc599-36bb-45eb-b55c-c8ea7bbbe8f0",
   "metadata": {},
   "source": [
    "7. Distribuciones de Probabilidad\n",
    "Distribución Uniforme:"
   ]
  },
  {
   "cell_type": "code",
   "execution_count": 4,
   "id": "dadcb6a2-4c7e-4765-a58f-5e7e07f09d50",
   "metadata": {},
   "outputs": [],
   "source": [
    "import numpy as np\n",
    "s = np.random.uniform(-1,0,1000)\n"
   ]
  },
  {
   "cell_type": "markdown",
   "id": "7ad73280-b7d7-46f8-836b-c4984254dfe9",
   "metadata": {},
   "source": [
    "Distribución Normal (Gaussiana):"
   ]
  },
  {
   "cell_type": "code",
   "execution_count": 5,
   "id": "ab0bb951-66f1-4a74-9b38-cc5865866653",
   "metadata": {},
   "outputs": [],
   "source": [
    "import numpy as np\n",
    "mu, sigma = 0, 0.1\n",
    "s = np.random.normal(mu, sigma, 1000)\n"
   ]
  },
  {
   "cell_type": "markdown",
   "id": "9c8bde5c-b32e-4e40-a575-3a17a34b8bc1",
   "metadata": {},
   "source": [
    "Distribución Binomial:"
   ]
  },
  {
   "cell_type": "code",
   "execution_count": 6,
   "id": "c19b1d84-4709-48ed-9b95-34549a60c4f5",
   "metadata": {},
   "outputs": [],
   "source": [
    "n, p = 10, .5\n",
    "s = np.random.binomial(n, p, 1000)\n"
   ]
  },
  {
   "cell_type": "markdown",
   "id": "020f8a00-12b4-4c1a-9c7e-855139aff859",
   "metadata": {},
   "source": [
    "8. Variables Aleatorias\n",
    "Definición.\n",
    "Tipos: Discretas y Continuas.\n",
    "Ejemplos en Python."
   ]
  },
  {
   "cell_type": "markdown",
   "id": "c8d3f677-bdb7-470a-9cd4-befa4f5602d7",
   "metadata": {},
   "source": [
    "9. Valor Esperado (Esperanza Matemática)\n",
    "Definición: El valor promedio ponderado de una variable aleatoria.\n",
    "\n",
    "Fórmula para una variable aleatoria discreta:\n",
    "\n",
    "\n",
    "Para una variable aleatoria continua:\n",
    "\n",
    "Ejemplo en Python:\n",
    "Supongamos que tienes una variable aleatoria \n",
    "\n",
    "X que representa el lanzamiento de un dado. Quieres encontrar el valor esperado de X."
   ]
  },
  {
   "cell_type": "code",
   "execution_count": 7,
   "id": "67aa26da-2531-40e0-95e1-3909442429b3",
   "metadata": {},
   "outputs": [
    {
     "name": "stdout",
     "output_type": "stream",
     "text": [
      "3.5\n"
     ]
    }
   ],
   "source": [
    "valores = [1, 2, 3, 4, 5, 6]\n",
    "probabilidades = [1/6, 1/6, 1/6, 1/6, 1/6, 1/6]\n",
    "\n",
    "valor_esperado = sum(x*p for x, p in zip(valores, probabilidades))\n",
    "print(valor_esperado)\n"
   ]
  },
  {
   "cell_type": "markdown",
   "id": "344a3820-99b2-4479-a411-1cf5ab8c9ea9",
   "metadata": {},
   "source": [
    "10. Esperanza y Varianza\n",
    "Definiciones y fórmulas.\n",
    "Ejemplos en Python."
   ]
  },
  {
   "cell_type": "markdown",
   "id": "c577ee23-5b30-47f4-aded-87fe8412fb53",
   "metadata": {},
   "source": [
    "11. Conclusión\n",
    "Resumen de los conceptos aprendidos.\n",
    "Importancia de la probabilidad en la toma de decisiones en ciencia de datos."
   ]
  },
  {
   "cell_type": "code",
   "execution_count": null,
   "id": "33ec0ca1-7911-46a0-b47f-93c80c3bfaf7",
   "metadata": {},
   "outputs": [],
   "source": []
  }
 ],
 "metadata": {
  "kernelspec": {
   "display_name": "Python 3 (ipykernel)",
   "language": "python",
   "name": "python3"
  },
  "language_info": {
   "codemirror_mode": {
    "name": "ipython",
    "version": 3
   },
   "file_extension": ".py",
   "mimetype": "text/x-python",
   "name": "python",
   "nbconvert_exporter": "python",
   "pygments_lexer": "ipython3",
   "version": "3.9.17"
  }
 },
 "nbformat": 4,
 "nbformat_minor": 5
}
