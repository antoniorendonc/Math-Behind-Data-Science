{
  "nbformat": 4,
  "nbformat_minor": 0,
  "metadata": {
    "colab": {
      "provenance": [],
      "authorship_tag": "ABX9TyO3GNFdXYc0MZlylL5aC9U1",
      "include_colab_link": true
    },
    "kernelspec": {
      "name": "python3",
      "display_name": "Python 3"
    },
    "language_info": {
      "name": "python"
    }
  },
  "cells": [
    {
      "cell_type": "markdown",
      "metadata": {
        "id": "view-in-github",
        "colab_type": "text"
      },
      "source": [
        "<a href=\"https://colab.research.google.com/github/antoniorendonc/MathBehindDataScience/blob/main/Metodos_numericos_E3.ipynb\" target=\"_parent\"><img src=\"https://colab.research.google.com/assets/colab-badge.svg\" alt=\"Open In Colab\"/></a>"
      ]
    },
    {
      "cell_type": "code",
      "execution_count": 1,
      "metadata": {
        "id": "N7h8glxOtBoY"
      },
      "outputs": [],
      "source": [
        "def f(x):\n",
        "    if 7.5 <= x < 7.75:  # 7:30 - 7:45\n",
        "        return 18\n",
        "    elif 7.75 <= x < 8:  # 7:45 - 8:00\n",
        "        return 24\n",
        "    elif 8 <= x < 8.25:  # 8:00 - 8:15\n",
        "        return 14\n",
        "    elif 8.25 <= x < 8.5:  # 8:15 - 8:45\n",
        "        return 24\n",
        "    elif 8.5 <= x < 9.25:  # 8:45 - 9:15\n",
        "        return 21\n",
        "    elif x == 9.25:  # En el punto 9:15\n",
        "        return 9\n",
        "    else:\n",
        "        return 0  # Para cualquier otro valor fuera de los rangos\n"
      ]
    },
    {
      "cell_type": "code",
      "source": [
        "def trapecio(f, a, b, n):\n",
        "    h = (b - a) / n\n",
        "    suma = f(a) + f(b)\n",
        "    for i in range(1, n):\n",
        "        suma += 2 * f(a + i * h)\n",
        "    return (h / 2) * suma\n",
        "\n",
        "\n"
      ],
      "metadata": {
        "id": "2xcW3IG8ttVw"
      },
      "execution_count": 12,
      "outputs": []
    },
    {
      "cell_type": "code",
      "source": [
        "def simpson_13(f, a, b, n):\n",
        "    h = (b - a) / n\n",
        "    suma = f(a) + f(b)\n",
        "    for i in range(1, n, 2):\n",
        "        suma += 4 * f(a + i * h)\n",
        "    for i in range(2, n-1, 2):\n",
        "        suma += 2 * f(a + i * h)\n",
        "    return (h / 3) * suma\n"
      ],
      "metadata": {
        "id": "jqjFEHdGt1gf"
      },
      "execution_count": 3,
      "outputs": []
    },
    {
      "cell_type": "code",
      "source": [
        "a = 7.5  # 7:30 en horas decimales\n",
        "b = 9.25  # 9:15 en horas decimales\n",
        "n = 200  # número de subintervalos (puedes ajustar según la precisión deseada)\n",
        "\n",
        "resultado_trapecio = trapecio(f, a, b, n)\n",
        "resultado_simpson = simpson_13(f, a, b, n)\n",
        "\n",
        "print(f\"Resultado usando la regla del trapecio: {resultado_trapecio} autos\")\n",
        "print(f\"Resultado usando la regla de Simpson 1/3: {resultado_simpson} autos\")\n"
      ],
      "metadata": {
        "colab": {
          "base_uri": "https://localhost:8080/"
        },
        "id": "0wZUiP7bt5J4",
        "outputId": "ed00f870-48b0-42ad-d3f9-131204a97442"
      },
      "execution_count": 10,
      "outputs": [
        {
          "output_type": "stream",
          "name": "stdout",
          "text": [
            "Resultado usando la regla del trapecio: 35.756875 autos\n",
            "Resultado usando la regla de Simpson 1/3: 35.77875 autos\n"
          ]
        }
      ]
    },
    {
      "cell_type": "code",
      "source": [
        "# Parte b:\n",
        "duracion = (b - a) * 60  # Duración en minutos entre 7:30 y 9:15\n",
        "tasa_promedio_trapecio = resultado_trapecio / duracion\n",
        "tasa_promedio_simpson = resultado_simpson / duracion\n",
        "\n",
        "print(f\"Tasa promedio de autos por minuto usando la regla del trapecio: {tasa_promedio_trapecio:.2f} autos/min\")\n",
        "print(f\"Tasa promedio de autos por minuto usando la regla de Simpson 1/3: {tasa_promedio_simpson:.2f} autos/min\")"
      ],
      "metadata": {
        "colab": {
          "base_uri": "https://localhost:8080/"
        },
        "id": "Sc9WSTzzuaW7",
        "outputId": "cfd2db6e-0492-4def-9069-3ccac020f336"
      },
      "execution_count": null,
      "outputs": [
        {
          "output_type": "stream",
          "name": "stdout",
          "text": [
            "Tasa promedio de autos por minuto usando la regla del trapecio: 0.32 autos/min\n",
            "Tasa promedio de autos por minuto usando la regla de Simpson 1/3: 0.32 autos/min\n"
          ]
        }
      ]
    },
    {
      "cell_type": "code",
      "source": [
        "# Función que representa las profundidades del río\n",
        "def f(x):\n",
        "    if 0 <= x < 2:\n",
        "        return 1.9\n",
        "    elif 2 <= x < 4:\n",
        "        return 2\n",
        "    elif 4 <= x < 6:\n",
        "        return 2.4\n",
        "    elif 6 <= x < 8:\n",
        "        return 2.6\n",
        "    elif 8 <= x < 10:\n",
        "        return 2.25\n",
        "    elif 10 <= x < 12:\n",
        "        return 1.12\n",
        "    elif 12 <= x <= 16:\n",
        "        return 0\n",
        "    else:\n",
        "        return 0  # Para cualquier otro valor fuera de los rangos"
      ],
      "metadata": {
        "id": "OXzSejiJYTkF"
      },
      "execution_count": 11,
      "outputs": []
    },
    {
      "cell_type": "code",
      "source": [
        "def romberg(f, a, b, epsilon=0.01, show=True):\n",
        "    tabla = np.zeros((20, 20), dtype=float)\n",
        "    i = 0\n",
        "    sigue = True\n",
        "    while sigue:\n",
        "        n = 2**i\n",
        "        tabla[i, 0] = trapecio(f, a, b, n)\n",
        "        for j in range(1, i+1):\n",
        "            tabla[i, j] = (4**j * tabla[i, j-1] - tabla[i-1, j-1]) / (4**j - 1)\n",
        "        if i > 0 and abs(tabla[i, i] - tabla[i-1, i-1]) < epsilon:\n",
        "            sigue = False\n",
        "        i += 1\n",
        "\n",
        "    salida = tabla[:i, :i]\n",
        "    if show:\n",
        "        print(salida)\n",
        "    return salida[i-1, i-1]"
      ],
      "metadata": {
        "id": "ppf4pdTEYpwF"
      },
      "execution_count": 25,
      "outputs": []
    },
    {
      "cell_type": "code",
      "source": [
        "import numpy as np\n",
        "\n",
        "a = 0  # límite inferior\n",
        "b = 16  # límite superior\n",
        "epsilon = 0.01  # error permitido (1%)\n",
        "\n",
        "area = romberg(f, a, b, epsilon)\n",
        "print(f\"Área bajo la curva usando Romberg con creiterio de 0.01: {area:.4f}\")\n",
        "\n",
        "epsilon = 0.05  # error permitido (1%)\n",
        "area = romberg(f, a, b, epsilon)\n",
        "print(f\"Área bajo la curva usando Romberg con creiterio de 0.05: {area:.4f}\")\n",
        "\n",
        "epsilon = 0.15  # error permitido (1%)\n",
        "area = romberg(f, a, b, epsilon)\n",
        "print(f\"Área bajo la curva usando Romberg con creiterio de 0.15: {area:.4f}\")\n"
      ],
      "metadata": {
        "colab": {
          "base_uri": "https://localhost:8080/"
        },
        "id": "qkhKCfKVYuMm",
        "outputId": "1101bcf9-3644-4fb7-f1ce-d0537bb858ea"
      },
      "execution_count": 26,
      "outputs": [
        {
          "output_type": "stream",
          "name": "stdout",
          "text": [
            "[[15.2         0.          0.          0.          0.          0.\n",
            "   0.          0.          0.          0.          0.        ]\n",
            " [25.6        29.06666667  0.          0.          0.          0.\n",
            "   0.          0.          0.          0.          0.        ]\n",
            " [22.4        21.33333333 20.81777778  0.          0.          0.\n",
            "   0.          0.          0.          0.          0.        ]\n",
            " [22.64       22.72       22.81244444 22.84410582  0.          0.\n",
            "   0.          0.          0.          0.          0.        ]\n",
            " [23.59       23.90666667 23.98577778 24.00440212 24.0089523   0.\n",
            "   0.          0.          0.          0.          0.        ]\n",
            " [24.065      24.22333333 24.24444444 24.24855026 24.24950771 24.24974286\n",
            "   0.          0.          0.          0.          0.        ]\n",
            " [24.3025     24.38166667 24.39222222 24.3945679  24.39514052 24.39528288\n",
            "  24.39531842  0.          0.          0.          0.        ]\n",
            " [24.42125    24.46083333 24.46611111 24.46728395 24.46756911 24.46763991\n",
            "  24.46765758 24.467662    0.          0.          0.        ]\n",
            " [24.480625   24.50041667 24.50305556 24.50364198 24.50378456 24.50381996\n",
            "  24.50382879 24.503831   24.50383155  0.          0.        ]\n",
            " [24.5103125  24.52020833 24.52152778 24.52182099 24.52189228 24.52190998\n",
            "  24.5219144  24.5219155  24.52191578 24.52191584  0.        ]\n",
            " [24.52515625 24.53010417 24.53076389 24.53091049 24.53094614 24.53095499\n",
            "  24.5309572  24.53095775 24.53095789 24.53095792 24.53095793]]\n",
            "Área bajo la curva usando Romberg con creiterio de 0.01: 24.5310\n",
            "[[15.2         0.          0.          0.          0.          0.\n",
            "   0.          0.          0.        ]\n",
            " [25.6        29.06666667  0.          0.          0.          0.\n",
            "   0.          0.          0.        ]\n",
            " [22.4        21.33333333 20.81777778  0.          0.          0.\n",
            "   0.          0.          0.        ]\n",
            " [22.64       22.72       22.81244444 22.84410582  0.          0.\n",
            "   0.          0.          0.        ]\n",
            " [23.59       23.90666667 23.98577778 24.00440212 24.0089523   0.\n",
            "   0.          0.          0.        ]\n",
            " [24.065      24.22333333 24.24444444 24.24855026 24.24950771 24.24974286\n",
            "   0.          0.          0.        ]\n",
            " [24.3025     24.38166667 24.39222222 24.3945679  24.39514052 24.39528288\n",
            "  24.39531842  0.          0.        ]\n",
            " [24.42125    24.46083333 24.46611111 24.46728395 24.46756911 24.46763991\n",
            "  24.46765758 24.467662    0.        ]\n",
            " [24.480625   24.50041667 24.50305556 24.50364198 24.50378456 24.50381996\n",
            "  24.50382879 24.503831   24.50383155]]\n",
            "Área bajo la curva usando Romberg con creiterio de 0.05: 24.5038\n",
            "[[15.2         0.          0.          0.          0.          0.\n",
            "   0.        ]\n",
            " [25.6        29.06666667  0.          0.          0.          0.\n",
            "   0.        ]\n",
            " [22.4        21.33333333 20.81777778  0.          0.          0.\n",
            "   0.        ]\n",
            " [22.64       22.72       22.81244444 22.84410582  0.          0.\n",
            "   0.        ]\n",
            " [23.59       23.90666667 23.98577778 24.00440212 24.0089523   0.\n",
            "   0.        ]\n",
            " [24.065      24.22333333 24.24444444 24.24855026 24.24950771 24.24974286\n",
            "   0.        ]\n",
            " [24.3025     24.38166667 24.39222222 24.3945679  24.39514052 24.39528288\n",
            "  24.39531842]]\n",
            "Área bajo la curva usando Romberg con creiterio de 0.15: 24.3953\n"
          ]
        }
      ]
    }
  ]
}